{
  "nbformat": 4,
  "nbformat_minor": 0,
  "metadata": {
    "colab": {
      "provenance": []
    },
    "kernelspec": {
      "name": "python3",
      "display_name": "Python 3"
    },
    "language_info": {
      "name": "python"
    }
  },
  "cells": [
    {
      "cell_type": "code",
      "execution_count": 1,
      "metadata": {
        "colab": {
          "base_uri": "https://localhost:8080/"
        },
        "id": "r9yjKnT5sNFX",
        "outputId": "013bb7dc-2701-4091-eef0-b19aab7f9fd1"
      },
      "outputs": [
        {
          "output_type": "stream",
          "name": "stdout",
          "text": [
            "Requirement already satisfied: torch in /usr/local/lib/python3.10/dist-packages (2.2.1+cu121)\n",
            "Requirement already satisfied: torchvision in /usr/local/lib/python3.10/dist-packages (0.17.1+cu121)\n",
            "Requirement already satisfied: torchaudio in /usr/local/lib/python3.10/dist-packages (2.2.1+cu121)\n",
            "Requirement already satisfied: filelock in /usr/local/lib/python3.10/dist-packages (from torch) (3.13.3)\n",
            "Requirement already satisfied: typing-extensions>=4.8.0 in /usr/local/lib/python3.10/dist-packages (from torch) (4.10.0)\n",
            "Requirement already satisfied: sympy in /usr/local/lib/python3.10/dist-packages (from torch) (1.12)\n",
            "Requirement already satisfied: networkx in /usr/local/lib/python3.10/dist-packages (from torch) (3.2.1)\n",
            "Requirement already satisfied: jinja2 in /usr/local/lib/python3.10/dist-packages (from torch) (3.1.3)\n",
            "Requirement already satisfied: fsspec in /usr/local/lib/python3.10/dist-packages (from torch) (2023.6.0)\n",
            "Collecting nvidia-cuda-nvrtc-cu12==12.1.105 (from torch)\n",
            "  Downloading nvidia_cuda_nvrtc_cu12-12.1.105-py3-none-manylinux1_x86_64.whl (23.7 MB)\n",
            "\u001b[2K     \u001b[90m━━━━━━━━━━━━━━━━━━━━━━━━━━━━━━━━━━━━━━━━\u001b[0m \u001b[32m23.7/23.7 MB\u001b[0m \u001b[31m26.7 MB/s\u001b[0m eta \u001b[36m0:00:00\u001b[0m\n",
            "\u001b[?25hCollecting nvidia-cuda-runtime-cu12==12.1.105 (from torch)\n",
            "  Downloading nvidia_cuda_runtime_cu12-12.1.105-py3-none-manylinux1_x86_64.whl (823 kB)\n",
            "\u001b[2K     \u001b[90m━━━━━━━━━━━━━━━━━━━━━━━━━━━━━━━━━━━━━━━━\u001b[0m \u001b[32m823.6/823.6 kB\u001b[0m \u001b[31m20.1 MB/s\u001b[0m eta \u001b[36m0:00:00\u001b[0m\n",
            "\u001b[?25hCollecting nvidia-cuda-cupti-cu12==12.1.105 (from torch)\n",
            "  Downloading nvidia_cuda_cupti_cu12-12.1.105-py3-none-manylinux1_x86_64.whl (14.1 MB)\n",
            "\u001b[2K     \u001b[90m━━━━━━━━━━━━━━━━━━━━━━━━━━━━━━━━━━━━━━━━\u001b[0m \u001b[32m14.1/14.1 MB\u001b[0m \u001b[31m23.7 MB/s\u001b[0m eta \u001b[36m0:00:00\u001b[0m\n",
            "\u001b[?25hCollecting nvidia-cudnn-cu12==8.9.2.26 (from torch)\n",
            "  Downloading nvidia_cudnn_cu12-8.9.2.26-py3-none-manylinux1_x86_64.whl (731.7 MB)\n",
            "\u001b[2K     \u001b[90m━━━━━━━━━━━━━━━━━━━━━━━━━━━━━━━━━━━━━━━━\u001b[0m \u001b[32m731.7/731.7 MB\u001b[0m \u001b[31m1.6 MB/s\u001b[0m eta \u001b[36m0:00:00\u001b[0m\n",
            "\u001b[?25hCollecting nvidia-cublas-cu12==12.1.3.1 (from torch)\n",
            "  Downloading nvidia_cublas_cu12-12.1.3.1-py3-none-manylinux1_x86_64.whl (410.6 MB)\n",
            "\u001b[2K     \u001b[90m━━━━━━━━━━━━━━━━━━━━━━━━━━━━━━━━━━━━━━━━\u001b[0m \u001b[32m410.6/410.6 MB\u001b[0m \u001b[31m3.1 MB/s\u001b[0m eta \u001b[36m0:00:00\u001b[0m\n",
            "\u001b[?25hCollecting nvidia-cufft-cu12==11.0.2.54 (from torch)\n",
            "  Downloading nvidia_cufft_cu12-11.0.2.54-py3-none-manylinux1_x86_64.whl (121.6 MB)\n",
            "\u001b[2K     \u001b[90m━━━━━━━━━━━━━━━━━━━━━━━━━━━━━━━━━━━━━━━━\u001b[0m \u001b[32m121.6/121.6 MB\u001b[0m \u001b[31m8.4 MB/s\u001b[0m eta \u001b[36m0:00:00\u001b[0m\n",
            "\u001b[?25hCollecting nvidia-curand-cu12==10.3.2.106 (from torch)\n",
            "  Downloading nvidia_curand_cu12-10.3.2.106-py3-none-manylinux1_x86_64.whl (56.5 MB)\n",
            "\u001b[2K     \u001b[90m━━━━━━━━━━━━━━━━━━━━━━━━━━━━━━━━━━━━━━━━\u001b[0m \u001b[32m56.5/56.5 MB\u001b[0m \u001b[31m10.2 MB/s\u001b[0m eta \u001b[36m0:00:00\u001b[0m\n",
            "\u001b[?25hCollecting nvidia-cusolver-cu12==11.4.5.107 (from torch)\n",
            "  Downloading nvidia_cusolver_cu12-11.4.5.107-py3-none-manylinux1_x86_64.whl (124.2 MB)\n",
            "\u001b[2K     \u001b[90m━━━━━━━━━━━━━━━━━━━━━━━━━━━━━━━━━━━━━━━━\u001b[0m \u001b[32m124.2/124.2 MB\u001b[0m \u001b[31m8.4 MB/s\u001b[0m eta \u001b[36m0:00:00\u001b[0m\n",
            "\u001b[?25hCollecting nvidia-cusparse-cu12==12.1.0.106 (from torch)\n",
            "  Downloading nvidia_cusparse_cu12-12.1.0.106-py3-none-manylinux1_x86_64.whl (196.0 MB)\n",
            "\u001b[2K     \u001b[90m━━━━━━━━━━━━━━━━━━━━━━━━━━━━━━━━━━━━━━━━\u001b[0m \u001b[32m196.0/196.0 MB\u001b[0m \u001b[31m2.5 MB/s\u001b[0m eta \u001b[36m0:00:00\u001b[0m\n",
            "\u001b[?25hCollecting nvidia-nccl-cu12==2.19.3 (from torch)\n",
            "  Downloading nvidia_nccl_cu12-2.19.3-py3-none-manylinux1_x86_64.whl (166.0 MB)\n",
            "\u001b[2K     \u001b[90m━━━━━━━━━━━━━━━━━━━━━━━━━━━━━━━━━━━━━━━━\u001b[0m \u001b[32m166.0/166.0 MB\u001b[0m \u001b[31m6.4 MB/s\u001b[0m eta \u001b[36m0:00:00\u001b[0m\n",
            "\u001b[?25hCollecting nvidia-nvtx-cu12==12.1.105 (from torch)\n",
            "  Downloading nvidia_nvtx_cu12-12.1.105-py3-none-manylinux1_x86_64.whl (99 kB)\n",
            "\u001b[2K     \u001b[90m━━━━━━━━━━━━━━━━━━━━━━━━━━━━━━━━━━━━━━━━\u001b[0m \u001b[32m99.1/99.1 kB\u001b[0m \u001b[31m13.4 MB/s\u001b[0m eta \u001b[36m0:00:00\u001b[0m\n",
            "\u001b[?25hRequirement already satisfied: triton==2.2.0 in /usr/local/lib/python3.10/dist-packages (from torch) (2.2.0)\n",
            "Collecting nvidia-nvjitlink-cu12 (from nvidia-cusolver-cu12==11.4.5.107->torch)\n",
            "  Downloading nvidia_nvjitlink_cu12-12.4.127-py3-none-manylinux2014_x86_64.whl (21.1 MB)\n",
            "\u001b[2K     \u001b[90m━━━━━━━━━━━━━━━━━━━━━━━━━━━━━━━━━━━━━━━━\u001b[0m \u001b[32m21.1/21.1 MB\u001b[0m \u001b[31m65.8 MB/s\u001b[0m eta \u001b[36m0:00:00\u001b[0m\n",
            "\u001b[?25hRequirement already satisfied: numpy in /usr/local/lib/python3.10/dist-packages (from torchvision) (1.25.2)\n",
            "Requirement already satisfied: pillow!=8.3.*,>=5.3.0 in /usr/local/lib/python3.10/dist-packages (from torchvision) (9.4.0)\n",
            "Requirement already satisfied: MarkupSafe>=2.0 in /usr/local/lib/python3.10/dist-packages (from jinja2->torch) (2.1.5)\n",
            "Requirement already satisfied: mpmath>=0.19 in /usr/local/lib/python3.10/dist-packages (from sympy->torch) (1.3.0)\n",
            "Installing collected packages: nvidia-nvtx-cu12, nvidia-nvjitlink-cu12, nvidia-nccl-cu12, nvidia-curand-cu12, nvidia-cufft-cu12, nvidia-cuda-runtime-cu12, nvidia-cuda-nvrtc-cu12, nvidia-cuda-cupti-cu12, nvidia-cublas-cu12, nvidia-cusparse-cu12, nvidia-cudnn-cu12, nvidia-cusolver-cu12\n",
            "Successfully installed nvidia-cublas-cu12-12.1.3.1 nvidia-cuda-cupti-cu12-12.1.105 nvidia-cuda-nvrtc-cu12-12.1.105 nvidia-cuda-runtime-cu12-12.1.105 nvidia-cudnn-cu12-8.9.2.26 nvidia-cufft-cu12-11.0.2.54 nvidia-curand-cu12-10.3.2.106 nvidia-cusolver-cu12-11.4.5.107 nvidia-cusparse-cu12-12.1.0.106 nvidia-nccl-cu12-2.19.3 nvidia-nvjitlink-cu12-12.4.127 nvidia-nvtx-cu12-12.1.105\n"
          ]
        }
      ],
      "source": [
        "!pip install torch torchvision torchaudio"
      ]
    },
    {
      "cell_type": "code",
      "source": [
        "import torch\n",
        "from google.colab import drive\n",
        "import matplotlib.pyplot as plt\n",
        "import matplotlib.image as mpimg\n",
        "# Loading the data from Google Drive:\n",
        "drive.mount('/content/drive')\n",
        "image_path ='/content/drive/MyDrive/ML/dog1.jpeg'\n",
        "img = mpimg.imread(image_path)\n",
        "plt.imshow(img)\n",
        "plt.axis('off')  # Turn off axis labels\n",
        "plt.show()"
      ],
      "metadata": {
        "colab": {
          "base_uri": "https://localhost:8080/",
          "height": 423
        },
        "id": "xNYLLfhDupup",
        "outputId": "6cdb1c71-66db-4808-fe7c-7aeb54b5591f"
      },
      "execution_count": 8,
      "outputs": [
        {
          "output_type": "stream",
          "name": "stdout",
          "text": [
            "Drive already mounted at /content/drive; to attempt to forcibly remount, call drive.mount(\"/content/drive\", force_remount=True).\n"
          ]
        },
        {
          "output_type": "display_data",
          "data": {
            "text/plain": [
              "<Figure size 640x480 with 1 Axes>"
            ],
            "image/png": "[encoded data removed]"
          },
          "metadata": {}
        }
      ]
    },
    {
      "cell_type": "markdown",
      "source": [
        "1.1 Data Preparation:"
      ],
      "metadata": {
        "id": "BSEnovZJJoPT"
      }
    },
    {
      "cell_type": "code",
      "source": [
        "\n",
        "import numpy as np\n",
        "import imageio\n",
        "\n",
        "# 2. Using imageio to read the image into an array\n",
        "img_array = imageio.imread(image_path)\n",
        "\n",
        "# 3. Displaying the image in the output box\n",
        "plt.imshow(img)\n",
        "plt.axis('off')\n",
        "plt.show()\n",
        "\n",
        "# 4. Printing the size of the array\n",
        "print(\"Size of the array:\", img_array.shape)\n",
        "\n",
        "# 5. Printing the numeric matrix form of the image\n",
        "print(\"Array of the image:\")\n",
        "print(img_array)\n"
      ],
      "metadata": {
        "colab": {
          "base_uri": "https://localhost:8080/",
          "height": 1000
        },
        "id": "GXdlU2KAwUB_",
        "outputId": "f11aeaaf-d3c4-4197-8081-8c7dcc3c8dca"
      },
      "execution_count": 11,
      "outputs": [
        {
          "output_type": "stream",
          "name": "stderr",
          "text": [
            "<ipython-input-11-55a68b26f3cb>:6: DeprecationWarning: Starting with ImageIO v3 the behavior of this function will switch to that of iio.v3.imread. To keep the current behavior (and make this warning disappear) use `import imageio.v2 as imageio` or call `imageio.v2.imread` directly.\n",
            "  img_array = imageio.imread(image_path)\n"
          ]
        },
        {
          "output_type": "display_data",
          "data": {
            "text/plain": [
              "<Figure size 640x480 with 1 Axes>"
            ],
            "image/png": "[encoded data removed]"
          },
          "metadata": {}
        },
        {
          "output_type": "stream",
          "name": "stdout",
          "text": [
            "Size of the array: (30, 30)\n",
            "Array of the image:\n",
            "[[ 98  89  78 112  90  93 158 112 122 117 107 121  90  75  67  93  73  67\n",
            "   96 152 167 151 166 154 134 105  53  51  55  44]\n",
            " [ 34  31  51  38  16  50 195 161 138 173 200 209 194 206 222 237 223 195\n",
            "  177 185 167 160 166 169 136  98  49  54  55  35]\n",
            " [ 78  84  94  71  81  69 190 204 233 240 249 234 232 241 250 235 235 236\n",
            "  224 194 169 181 170 162 121  95  55  49  52  47]\n",
            " [ 79  58  90 127 103 137 253 244 254 222 223 219 235 228 232 206 201 215\n",
            "  201 106 105 137 169 173 124  81  45  49  59  53]\n",
            " [ 31  75  44  81  89 191 242 255 228 208 231 233 236 222 227 199 177 192\n",
            "  208 104 137 109 170 194 159  88  44  54  63  46]\n",
            " [ 85  66  51 145 129 225 239 206 242 233 247 231 210 218 232 202 190 173\n",
            "  181  95 146  39 132 199 178 145 103  53  44  65]\n",
            " [ 81  60  76 178 216 214 209 230 240 229 230 211 157 176 214 218 185 186\n",
            "  198 154 203  33 100 157 157 179 162  72  39  78]\n",
            " [104  89 152 176 168 117 182 226 242 235 238 207  82  50  94 145 136 157\n",
            "  148 119 175  30 111 165 136 155 168 110  60  56]\n",
            " [ 95  39 181 160  91  13 180 237 240 242 221 102  24   7  19  12  38  95\n",
            "  101 142 155  30  89  91 107 145 161 113  60  53]\n",
            " [ 18  54 186 144 147  99 248 238 235 227 210 115  62  57  74  72  85  82\n",
            "   91 182  83  56  68  59 129 113 133 129 116  67]\n",
            " [ 84  79 201 132 185 229 217 206 210 188 188 155 160 169 164 141 111  70\n",
            "  126 154  49  40  69  73 104  85 120 132 158 125]\n",
            " [201 161 135 153 174 219 204 197 209 178 177 146 138 124 114 101  90  85\n",
            "  144 105  81  53  83 104  74  80 122 141 152 133]\n",
            " [162 150 147 212 176 180 190 187 161 107 114 140 191 178 114  49  74 117\n",
            "  112 118  99 114  93  98  96  90 104 139 102  67]\n",
            " [184 138 167 132  90 118 183 214 193 150 148 132 137 130 135 141  96 127\n",
            "  108 140  75 111 113  96 115 101  75  89  42  43]\n",
            " [172 127 105  83  61  34 134 149 188 134 119  97 106 106 115 120 109 107\n",
            "  123 139  70  77 110 103 102  91  67  68  42  61]\n",
            " [139  39  59  55  36  15  27 128 189 123  98  79 100 105 105  97  95  86\n",
            "  105 148  94  95  78  92  93  67  78 110  94  51]\n",
            " [162  27  19  24   2  34  19 104 153  91  88  71 100 151 122 118  98  96\n",
            "   92 143 136  86  92  79  83  64  35  31  61  87]\n",
            " [186 114  41  35  15  20  37  75 101  92  91  86 122 172 147  97  85  96\n",
            "   86 104  88  61  80  64  68  65  37  12  21  38]\n",
            " [183 164  24  17  41  42  75  49  67  80  74  86  98 104 116  99  81 101\n",
            "   90  94  97 116 149 125  69  83  64  30  28  42]\n",
            " [172 207  94  39  34  18  50  52  82  95  92  99  97  86 104 120  82  88\n",
            "   69  66  82 112 126  84  52  66  53  25  20  26]\n",
            " [159 164 106  37  51  56  38  56  62  87 101  90 108 125  99  84  94  90\n",
            "   78  79  86  97  89  48  79  77  59  41  34  27]\n",
            " [179 181 191 103  67  52  28  77  92 109 121 113 129 129  93  93  65  66\n",
            "   77  86  83  79  71  52  55  46  30  24  26  19]\n",
            " [198 178 191 158 154 149 142 139 144 144 109 102 103  73  72  98  89  84\n",
            "   94  92  76  65  51  40  19  21  12   9  19  25]\n",
            " [173 168 176 182 184 172 208 171 198 207 118  91 101  88 107  93 109  92\n",
            "   87  72  55  47  26   6   9  21  14   1   9  19]\n",
            " [180 180 176 177 187 189 165 134 130 188 137 113  70 107  79  61  81  61\n",
            "   47  49  48  30  10   0   4   5   5   5   4   7]\n",
            " [176 177 176 178 186 190 183 172 160 151 124 134 109  74  58  64  56  48\n",
            "   42  37  23   8   8  17   9   9  11  14  18  23]\n",
            " [175 174 176 180 181 185 195 207 179 208 217 168 122  92  94  48  52  34\n",
            "   18  14  12  10  14  21  33  28  23  23  26  28]\n",
            " [179 174 177 182 178 175 189 210 216 220 204 246 134 106  65  57  55  34\n",
            "   14   9  15  21  27  32  54  43  31  29  34  36]\n",
            " [183 176 177 185 182 172 179 196 255 153 188 221 225  84  82  51  42  39\n",
            "   33  25  19  23  41  59  49  37  27  31  47  59]\n",
            " [184 177 179 188 186 177 177 186 242 187 172 247 199 148  91  54  40  35\n",
            "   30  29  34  44  55  63  34  24  18  28  51  71]]\n"
          ]
        }
      ]
    },
    {
      "cell_type": "markdown",
      "source": [
        "1.2: Implementation of Convolutional Filter:"
      ],
      "metadata": {
        "id": "9yvaUEnNJrtC"
      }
    },
    {
      "cell_type": "code",
      "source": [
        "\n",
        "from scipy.signal import convolve2d\n",
        "\n",
        "# 1. Preparing a 3x3 Laplacian kernel\n",
        "laplacian_kernel = np.array([[0, 1, 0],\n",
        "                             [1, -4, 1],\n",
        "                             [0, 1, 0]])\n",
        "\n",
        "# 2. Conducting convolution on the image with the prepared kernel\n",
        "convolution_result = convolve2d(img_array, laplacian_kernel, mode='same', boundary='fill', fillvalue=0)\n",
        "\n",
        "# 3. Printing the convolution result for first ten rows\n",
        "print(\"Convolution result (first ten rows):\")\n",
        "print(convolution_result[:10])\n",
        "\n",
        "# 4. Printing  the shape of the convolution result\n",
        "print(\"Shape of the convolution result:\", convolution_result.shape)\n",
        "\n",
        "# 5. Displaying the convolution result as image with matplotlib\n",
        "plt.imshow(convolution_result, cmap='gray')\n",
        "plt.title('Convolution Result with Laplacian Kernel')\n",
        "plt.axis('off')\n",
        "plt.show()"
      ],
      "metadata": {
        "colab": {
          "base_uri": "https://localhost:8080/",
          "height": 984
        },
        "id": "k2j243YWwW7S",
        "outputId": "7f1717c0-dc8b-4b40-c9d5-15066c494443"
      },
      "execution_count": 13,
      "outputs": [
        {
          "output_type": "stream",
          "name": "stdout",
          "text": [
            "Convolution result (first ten rows):\n",
            "[[-269 -149  -60 -242 -139  -74 -232   -7 -121  -66   10  -78   30   63\n",
            "   122    5   91   96   12 -160 -198 -111 -193 -147 -141 -135   -7  -42\n",
            "   -70  -86]\n",
            " [  71  134   37   98  195  173 -221    5  137    3  -62  -87  -39  -92\n",
            "  -128 -175 -152  -77   -8  -50   13   25    1  -58  -22   -7   64  -12\n",
            "   -24    6]\n",
            " [-115  -75  -80   56  -65  182  -39   12  -96  -83  -99  -27  -24  -48\n",
            "   -70  -12  -45  -75  -88  -92  -29  -88   -2  -15   33  -25   18   14\n",
            "     2  -48]\n",
            " [-149   96  -37 -163   22   68 -199  -10  -89   37   29   49  -25   18\n",
            "   -17   43   29  -30  -51  180  129   16  -26  -43   38   28   49   11\n",
            "   -19  -60]\n",
            " [ 115 -101  121   81  148  -71  -30 -100   47   82  -13  -15  -44   21\n",
            "   -23   16   74    5 -154  130  -84   47  -76  -75  -52   77  114   -7\n",
            "   -49   -3]\n",
            " [-162    7  127 -141  159 -127  -74  142  -61   -6  -63  -23    2  -32\n",
            "   -67   31  -23   57  -50  205 -110  264  -20 -135  -52  -32   -8   61\n",
            "    44  -92]\n",
            " [ -75   72  137  -99 -175  -89   29  -39  -17   22    5  -19   51  -65\n",
            "  -136 -126  -10  -31 -123   -1 -304  240   33   -7   22  -97 -126   76\n",
            "    98 -152]\n",
            " [-151   -1  -86  -46  -72  109    4  -13  -27   11  -59 -195  110  159\n",
            "    52 -120  -19  -63  -17  143 -193  229  -60 -165   40    8  -84  -27\n",
            "    25  -33]\n",
            " [-219  263 -187  -48  124  435  -40  -64   -4  -45  -92  159  157  122\n",
            "   111  226  176   -2   72  -11 -190  210  -56   56   73  -44  -85    8\n",
            "   102  -29]\n",
            " [ 161  106 -164   49  -69  241 -258  -26  -25  -33  -89   69  108   84\n",
            "    16   24  -37   13  127 -258  110   -3    1  125 -133   40   -9  -22\n",
            "   -50   26]]\n",
            "Shape of the convolution result: (30, 30)\n"
          ]
        },
        {
          "output_type": "display_data",
          "data": {
            "text/plain": [
              "<Figure size 640x480 with 1 Axes>"
            ],
            "image/png": "[encoded data removed]"
          },
          "metadata": {}
        }
      ]
    },
    {
      "cell_type": "markdown",
      "source": [
        "1.4 Implementation of MaxPooling:"
      ],
      "metadata": {
        "id": "crPM-W6rJvo2"
      }
    },
    {
      "cell_type": "code",
      "source": [
        "\n",
        "def max_pooling(input_array, pool_size):\n",
        "    # Calculating the size of the output array\n",
        "    output_shape = (\n",
        "        input_array.shape[0] // pool_size[0],\n",
        "        input_array.shape[1] // pool_size[1]\n",
        "    )\n",
        "    # Initializing the output array with zeros\n",
        "    pooled_array = np.zeros(output_shape)\n",
        "\n",
        "    # Perform max pooling\n",
        "    for i in range(0, input_array.shape[0], pool_size[0]):\n",
        "        for j in range(0, input_array.shape[1], pool_size[1]):\n",
        "            window = input_array[i:i + pool_size[0], j:j + pool_size[1]]\n",
        "            pooled_array[i // pool_size[0], j // pool_size[1]] = np.max(window)\n",
        "\n",
        "    return pooled_array\n",
        "\n",
        "# 1. Preparing a 2x2 pooling mask\n",
        "pool_size = (2, 2)\n",
        "\n",
        "if convolution_result.ndim == 3 and convolution_result.shape[2] == 3:\n",
        "    grayscale_image = convolution_result.mean(axis=2).astype(convolution_result.dtype)\n",
        "else:\n",
        "    grayscale_image = convolution_result\n",
        "\n",
        "# 2. Conducting max pooling on image with prepared mask\n",
        "max_pooled_result = max_pooling(grayscale_image, pool_size)\n",
        "\n",
        "# 3. Printing out max pooling result for first ten rows\n",
        "print(\"Max pooling result (first ten rows):\")\n",
        "print(max_pooled_result[:10])\n",
        "\n",
        "# 4. Printing out the shape of the max pooling result\n",
        "print(\"Shape of the max pooling result:\", max_pooled_result.shape)\n",
        "\n",
        "# 5. Displaying max pooling result as image with matplotlib\n",
        "plt.imshow(max_pooled_result, cmap='gray', interpolation='none')\n",
        "plt.title('Max Pooling Result')\n",
        "plt.axis('off')\n",
        "plt.show()"
      ],
      "metadata": {
        "colab": {
          "base_uri": "https://localhost:8080/",
          "height": 810
        },
        "id": "ByDdTGe6xKCP",
        "outputId": "512cc5c2-d5b0-457b-b684-8ac87b72747a"
      },
      "execution_count": 16,
      "outputs": [
        {
          "output_type": "stream",
          "name": "stdout",
          "text": [
            "Max pooling result (first ten rows):\n",
            "[[ 134.   98.  195.    5.  137.   10.   63.  122.   96.   12.   25.    1.\n",
            "    -7.   64.    6.]\n",
            " [  96.   56.  182.   12.   37.   49.   18.   43.   29.  180.  129.   -2.\n",
            "    38.   49.    2.]\n",
            " [ 115.  127.  159.  142.   82.  -13.   21.   31.   74.  205.  264.  -20.\n",
            "    77.  114.   44.]\n",
            " [  72.  137.  109.   29.   22.    5.  159.   52.  -10.  143.  240.   33.\n",
            "    40.   76.   98.]\n",
            " [ 263.   49.  435.  -26.   -4.  159.  157.  226.  176.  127.  210.  125.\n",
            "    73.    8.  102.]\n",
            " [ 184.  155.   37.   38.   51.   26.  103.   47.  124.   77.  162.   44.\n",
            "    88.   20.  -74.]\n",
            " [  76.   76.  127.   14.  175.  116.   36.  234.   67.   70.  120.   45.\n",
            "    21.   61.  108.]\n",
            " [ 196.   21.  192.  188.   44.   50.   42.   50.   59.   29.  105.   77.\n",
            "    58.   44.   97.]\n",
            " [ 226.   75.  101.  126.   92.   69.   44.   61.   32.   62.  126.   96.\n",
            "     9.   94.   55.]\n",
            " [-128.  220.  110.   73.   44.   53.   86.   18.   55.   60.   33.   15.\n",
            "    90.   44.   33.]]\n",
            "Shape of the max pooling result: (15, 15)\n"
          ]
        },
        {
          "output_type": "display_data",
          "data": {
            "text/plain": [
              "<Figure size 640x480 with 1 Axes>"
            ],
            "image/png": "[encoded data removed]"
          },
          "metadata": {}
        }
      ]
    },
    {
      "cell_type": "markdown",
      "source": [
        "1.5 Library Preparation:"
      ],
      "metadata": {
        "id": "2r_Zmd0-Jyvh"
      }
    },
    {
      "cell_type": "code",
      "source": [
        "\n",
        "# We have already imported numpy and torch earlier in the code.\n",
        "import torch.nn as nn\n",
        "import torch.nn.functional as F\n",
        "import torchvision\n",
        "import torchvision.transforms as transforms"
      ],
      "metadata": {
        "id": "xsMgG8FdyTOD"
      },
      "execution_count": 17,
      "outputs": []
    },
    {
      "cell_type": "code",
      "source": [
        "from torchvision import datasets, transforms\n",
        "from torch.utils.data import DataLoader\n",
        "\n",
        "# Task 1: Downloading Fashion MNIST data to split it\n",
        "transform = transforms.Compose([\n",
        "    transforms.Resize((32, 32)),\n",
        "    transforms.ToTensor(),\n",
        "    transforms.Normalize((0.5,), (0.5,))\n",
        "])\n",
        "\n",
        "# Downloading the specified training data\n",
        "train_data = datasets.FashionMNIST(root='./data', train=True, download=True, transform=transform)\n",
        "# Downloading the specified test data\n",
        "test_data = datasets.FashionMNIST(root='./data', train=False, download=True, transform=transform)\n",
        "\n",
        "train_loader = DataLoader(train_data, batch_size=64, shuffle=True)\n",
        "test_loader = DataLoader(test_data, batch_size=64, shuffle=False)\n",
        "\n",
        "# Task 4: Print out the first image in the training set and its corresponding label index\n",
        "first_image, first_label = next(iter(train_loader))\n",
        "print(\"First image in the training set:\")\n",
        "print(first_image[0])\n",
        "print(\"Corresponding label index:\", first_label[0].item())\n",
        "\n",
        "# Task 5: Printing out the shape of total training data, the number of training samples, and the number of test samples.\n",
        "print(\"Shape of total training data:\", first_image.shape)\n",
        "print(\"Number of training samples:\", len(train_data))\n",
        "print(\"Number of test samples:\", len(test_data))"
      ],
      "metadata": {
        "colab": {
          "base_uri": "https://localhost:8080/"
        },
        "id": "ZzGj5w3vyyXQ",
        "outputId": "8901943e-9167-4257-ca44-ffcc8f942706"
      },
      "execution_count": 32,
      "outputs": [
        {
          "output_type": "stream",
          "name": "stdout",
          "text": [
            "First image in the training set:\n",
            "tensor([[[-1., -1., -1.,  ..., -1., -1., -1.],\n",
            "         [-1., -1., -1.,  ..., -1., -1., -1.],\n",
            "         [-1., -1., -1.,  ..., -1., -1., -1.],\n",
            "         ...,\n",
            "         [-1., -1., -1.,  ..., -1., -1., -1.],\n",
            "         [-1., -1., -1.,  ..., -1., -1., -1.],\n",
            "         [-1., -1., -1.,  ..., -1., -1., -1.]]])\n",
            "Corresponding label index: 4\n",
            "Shape of total training data: torch.Size([64, 1, 32, 32])\n",
            "Number of training samples: 60000\n",
            "Number of test samples: 10000\n"
          ]
        }
      ]
    },
    {
      "cell_type": "markdown",
      "source": [
        "1.6 Training Data Preparation"
      ],
      "metadata": {
        "id": "bD_XaENzJ1oO"
      }
    },
    {
      "cell_type": "code",
      "source": [
        "\n",
        "# Define transformations for the training data\n",
        "train_transform = transforms.Compose([\n",
        "    transforms.RandomCrop(28, padding=4),\n",
        "    transforms.RandomRotation(20),\n",
        "    transforms.ToTensor(),\n",
        "    transforms.Normalize((0.1307,), (0.3081,))\n",
        "])\n",
        "\n",
        "# Define transformations for the testing data\n",
        "test_transform = transforms.Compose([\n",
        "    transforms.ToTensor(),\n",
        "    transforms.Normalize((0.1307,), (0.3081,))\n",
        "])\n",
        "\n",
        "# Loading the training and testing datasets from PyTorch with the specified transforms\n",
        "train_data = datasets.FashionMNIST(root='./data', train=True, download=True, transform=train_transform)\n",
        "test_data = datasets.FashionMNIST(root='./data', train=False, download=True, transform=test_transform)\n",
        "\n",
        "# Loading one batch of data to find the first image and its label\n",
        "train_loader = torch.utils.data.DataLoader(train_data, batch_size=64, shuffle=True)\n",
        "images, labels = next(iter(train_loader))\n",
        "\n",
        "# Displaying the first image in the batch\n",
        "plt.imshow(images[0].numpy().squeeze(), cmap='gray')\n",
        "plt.title(f'Label: {labels[0].item()}')\n",
        "plt.axis('off')\n",
        "plt.show()\n",
        "\n",
        "# Printing the first image and its corresponding label index\n",
        "print(f\"First image in the training set displayed. Corresponding label index: {labels[0].item()}\")\n"
      ],
      "metadata": {
        "colab": {
          "base_uri": "https://localhost:8080/",
          "height": 445
        },
        "id": "HPc-2gh4zjWU",
        "outputId": "f5685554-6fca-4b78-db86-7b31d74061e8"
      },
      "execution_count": 19,
      "outputs": [
        {
          "output_type": "display_data",
          "data": {
            "text/plain": [
              "<Figure size 640x480 with 1 Axes>"
            ],
            "image/png": "[encoded data removed]"
          },
          "metadata": {}
        },
        {
          "output_type": "stream",
          "name": "stdout",
          "text": [
            "First image in the training set displayed. Corresponding label index: 3\n"
          ]
        }
      ]
    },
    {
      "cell_type": "code",
      "source": [
        "pip install torchsummary"
      ],
      "metadata": {
        "colab": {
          "base_uri": "https://localhost:8080/"
        },
        "id": "eziebbqo0XpE",
        "outputId": "74c7bdaa-c16c-4742-f1af-22f61cc6ce89"
      },
      "execution_count": 22,
      "outputs": [
        {
          "output_type": "stream",
          "name": "stdout",
          "text": [
            "Requirement already satisfied: torchsummary in /usr/local/lib/python3.10/dist-packages (1.5.1)\n"
          ]
        }
      ]
    },
    {
      "cell_type": "markdown",
      "source": [
        "1.7 LeNet -5:"
      ],
      "metadata": {
        "id": "EiVHkacQJ5ce"
      }
    },
    {
      "cell_type": "code",
      "source": [
        "\n",
        "import torch\n",
        "import torch.nn as nn\n",
        "import torch.nn.functional as F\n",
        "from torchsummary import summary\n",
        "\n",
        "class LeNet5(nn.Module):\n",
        "    def __init__(self):\n",
        "        super(LeNet5, self).__init__()\n",
        "        self.conv1 = nn.Conv2d(1, 6, kernel_size=5, padding=2)\n",
        "        self.conv2 = nn.Conv2d(6, 16, kernel_size=5)\n",
        "        self.fc1 = nn.Linear(16 * 6 * 6, 120)\n",
        "        self.fc2 = nn.Linear(120, 84)\n",
        "        self.fc3 = nn.Linear(84, 10)\n",
        "\n",
        "    def forward(self, x):\n",
        "        x = F.max_pool2d(F.relu(self.conv1(x)), (2, 2))\n",
        "        x = F.max_pool2d(F.relu(self.conv2(x)), (2, 2))\n",
        "        x = x.view(x.size(0), -1)\n",
        "        x = F.relu(self.fc1(x))\n",
        "        x = F.relu(self.fc2(x))\n",
        "        x = self.fc3(x)\n",
        "        return x\n",
        "\n",
        "model = LeNet5().to(device)\n",
        "\n",
        "# Printing the summary. The input size is (1, 32, 32) corresponding to (channels, height, width).\n",
        "summary(model, (1, 32, 32))\n"
      ],
      "metadata": {
        "colab": {
          "base_uri": "https://localhost:8080/"
        },
        "id": "BpD1OEQo0aV9",
        "outputId": "6a7114b2-74cc-43f1-d246-3bb7263757c8"
      },
      "execution_count": 29,
      "outputs": [
        {
          "output_type": "stream",
          "name": "stdout",
          "text": [
            "----------------------------------------------------------------\n",
            "        Layer (type)               Output Shape         Param #\n",
            "================================================================\n",
            "            Conv2d-1            [-1, 6, 32, 32]             156\n",
            "            Conv2d-2           [-1, 16, 12, 12]           2,416\n",
            "            Linear-3                  [-1, 120]          69,240\n",
            "            Linear-4                   [-1, 84]          10,164\n",
            "            Linear-5                   [-1, 10]             850\n",
            "================================================================\n",
            "Total params: 82,826\n",
            "Trainable params: 82,826\n",
            "Non-trainable params: 0\n",
            "----------------------------------------------------------------\n",
            "Input size (MB): 0.00\n",
            "Forward/backward pass size (MB): 0.07\n",
            "Params size (MB): 0.32\n",
            "Estimated Total Size (MB): 0.39\n",
            "----------------------------------------------------------------\n"
          ]
        }
      ]
    },
    {
      "cell_type": "markdown",
      "source": [
        "1.8 LeNet 5 Model Training"
      ],
      "metadata": {
        "id": "UIyM20MmJi8C"
      }
    },
    {
      "cell_type": "code",
      "source": [
        "\n",
        "import torch\n",
        "import torch.optim as optim\n",
        "import torch.nn.functional as F\n",
        "from torchvision import datasets, transforms\n",
        "from torch.utils.data import DataLoader\n",
        "\n",
        "# Setting up the transformations and load the datasets\n",
        "transform = transforms.Compose([\n",
        "    transforms.Resize((32, 32)),\n",
        "    transforms.ToTensor(),\n",
        "    transforms.Normalize((0.1307,), (0.3081,))\n",
        "])\n",
        "\n",
        "train_dataset = datasets.FashionMNIST(root='./data', train=True, download=True, transform=transform)\n",
        "test_dataset = datasets.FashionMNIST(root='./data', train=False, download=True, transform=transform)\n",
        "\n",
        "train_loader = DataLoader(dataset=train_dataset, batch_size=64, shuffle=True)\n",
        "test_loader = DataLoader(dataset=test_dataset, batch_size=64, shuffle=False)\n",
        "\n",
        "# Initialize the model, optimizer, and loss function as required in the question\n",
        "model = LeNet5().to(device)\n",
        "optimizer = optim.SGD(model.parameters(), lr=0.1, momentum=0.9, nesterov=True)\n",
        "criterion = nn.CrossEntropyLoss()\n",
        "\n",
        "# Training the model\n",
        "num_epochs = 10\n",
        "for epoch in range(num_epochs):\n",
        "    model.train()\n",
        "    running_loss = 0.0\n",
        "    correct_preds = 0\n",
        "    total_preds = 0\n",
        "\n",
        "    for images, labels in train_loader:\n",
        "        images, labels = images.to(device), labels.to(device)\n",
        "\n",
        "        optimizer.zero_grad()\n",
        "        outputs = model(images)\n",
        "        loss = criterion(outputs, labels)\n",
        "        loss.backward()\n",
        "        optimizer.step()\n",
        "\n",
        "        running_loss += loss.item()\n",
        "        _, predicted = torch.max(outputs, 1)\n",
        "        correct_preds += (predicted == labels).sum().item()\n",
        "        total_preds += labels.size(0)\n",
        "\n",
        "    epoch_loss = running_loss / len(train_loader)\n",
        "    epoch_accuracy = 100 * correct_preds / total_preds\n",
        "    print(f'Epoch {epoch+1}, Train Loss: {epoch_loss:.4f}, Train Accuracy: {epoch_accuracy:.2f}%')\n",
        "\n",
        "# Evaluating the model\n",
        "model.eval()\n",
        "test_loss = 0.0\n",
        "correct_preds = 0\n",
        "total_preds = 0\n",
        "\n",
        "with torch.no_grad():\n",
        "    for images, labels in test_loader:\n",
        "        images, labels = images.to(device), labels.to(device)\n",
        "        outputs = model(images)\n",
        "        loss = criterion(outputs, labels)\n",
        "        test_loss += loss.item()\n",
        "        _, predicted = torch.max(outputs, 1)\n",
        "        correct_preds += (predicted == labels).sum().item()\n",
        "        total_preds += labels.size(0)\n",
        "\n",
        "test_loss /= len(test_loader)\n",
        "test_accuracy = 100 * correct_preds / total_preds\n",
        "print(f'Test Loss: {test_loss:.4f}, Test Accuracy: {test_accuracy:.2f}%')\n"
      ],
      "metadata": {
        "colab": {
          "base_uri": "https://localhost:8080/"
        },
        "id": "Lz7NjARI3Ejo",
        "outputId": "5df90cde-98b3-4022-e18b-b9ba676714b7"
      },
      "execution_count": 31,
      "outputs": [
        {
          "output_type": "stream",
          "name": "stdout",
          "text": [
            "Epoch 1, Train Loss: 0.6678, Train Accuracy: 75.32%\n",
            "Epoch 2, Train Loss: 0.4450, Train Accuracy: 83.71%\n",
            "Epoch 3, Train Loss: 0.4111, Train Accuracy: 84.81%\n",
            "Epoch 4, Train Loss: 0.3941, Train Accuracy: 85.55%\n",
            "Epoch 5, Train Loss: 0.3924, Train Accuracy: 85.58%\n",
            "Epoch 6, Train Loss: 0.3832, Train Accuracy: 85.93%\n",
            "Epoch 7, Train Loss: 0.3796, Train Accuracy: 86.21%\n",
            "Epoch 8, Train Loss: 0.3905, Train Accuracy: 85.90%\n",
            "Epoch 9, Train Loss: 0.3891, Train Accuracy: 85.90%\n",
            "Epoch 10, Train Loss: 0.3768, Train Accuracy: 86.41%\n",
            "Test Loss: 0.4349, Test Accuracy: 84.61%\n"
          ]
        }
      ]
    }
  ]
}